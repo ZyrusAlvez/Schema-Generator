{
 "cells": [
  {
   "cell_type": "markdown",
   "id": "7612afe2",
   "metadata": {},
   "source": [
    "**Initialization**"
   ]
  },
  {
   "cell_type": "code",
   "execution_count": 15,
   "id": "6b68e165",
   "metadata": {},
   "outputs": [],
   "source": [
    "from schema_generator import schema_generator\n",
    "from xml_to_xsd.xsd_generator import generate_xsd\n",
    "from xml_to_xsd.xml_validator import xml_validator\n",
    "from json_to_schema.json_schema_generator import json_schema_generator\n",
    "from json_to_schema.json_validator import json_validator\n",
    "\n",
    "# Define directories for input/output files and configuration\n",
    "JSON_DIR = \"files/json\"                \n",
    "JSON_SCHEMA_DIR = \"files/json_schema\"  \n",
    "XML_DIR = \"files/xml\"                \n",
    "XSD_DIR = \"files/xsd\"                 \n",
    "CONFIG_FILE = \"config.json\"            "
   ]
  },
  {
   "cell_type": "markdown",
   "id": "1b9162f9",
   "metadata": {},
   "source": [
    "**Generate schemas and validate all files in the specified directories based on the config file**"
   ]
  },
  {
   "cell_type": "code",
   "execution_count": 16,
   "id": "5b9bf46a",
   "metadata": {},
   "outputs": [
    {
     "name": "stdout",
     "output_type": "stream",
     "text": [
      "['clip0', 'clip0.article', 'clip0.article.author', 'clip0.article.author.author', 'clip0.article.body', 'clip0.article.body.p', 'clip0.article.headline', 'clip0.article.hiddenbody', 'clip0.article.hiddenbody.p', 'clip0.source_metadata', 'clip0.source_metadata.article_area', 'clip0.source_metadata.article_id', 'clip0.source_metadata.ave', 'clip0.source_metadata.ave_currency', 'clip0.source_metadata.circulation', 'clip0.source_metadata.clip_pages', 'clip0.source_metadata.clipping_coordinates', 'clip0.source_metadata.content_type', 'clip0.source_metadata.country', 'clip0.source_metadata.edition', 'clip0.source_metadata.height', 'clip0.source_metadata.language', 'clip0.source_metadata.origin_left', 'clip0.source_metadata.origin_top', 'clip0.source_metadata.original_page_url', 'clip0.source_metadata.page_numbers', 'clip0.source_metadata.page_section', 'clip0.source_metadata.pdf_file_name', 'clip0.source_metadata.publication_date', 'clip0.source_metadata.publication_id', 'clip0.source_metadata.publication_name', 'clip0.source_metadata.width', 'clip0.source_metadata.word_count', 'clip0.supplier', 'clip0.supplier.name', 'clip0.supplier.processed_date']\n",
      "📄 JSON: files/json/client.json | 📁 Schema: files/json_schema\\2c293ef658fa596dc44f82ac5320b9167ea8d8e0f632fc1872feb629fc7ca815.json\n",
      "✅ New schema generated and saved.\n",
      "['age', 'name', 'student']\n",
      "📄 JSON: files/json/try1.json | 📁 Schema: files/json_schema\\2556a5236b1a6bb04f0eeb99edac7b67ea25a64d427f6789b895e9d610990d69.json\n",
      "✅ New schema generated and saved.\n",
      "['age1', 'name', 'student']\n",
      "📄 JSON: files/json/try2.json | 📁 Schema: files/json_schema\\17ffa0b8de11a1ca87281a424de786f9ad4a8842336a39c4fd97da7d8e5b1fd2.json\n",
      "✅ New schema generated and saved.\n",
      "📄 XML: files/xml/1.xml | 📁 XSD: files/xsd/0b6d6a5e4ed2c70c8132cd71830d0225a365d5d5cb68e46e67af28cc614aa4f2.xsd\n",
      "✅ New schema generated and saved.\n",
      "📄 XML: files/xml/2.xml | 📁 XSD: files/xsd/eb9598ec23aeb66ffa85f1defd6b86ae8f176eef3118fd623fa844df28fabace.xsd\n",
      "✅ New schema generated and saved.\n",
      "📄 XML: files/xml/3.xml | 📁 XSD: files/xsd/f743bbf3af8e2df3b4f90a445349de38ed55d6a5b1fc8b1f6c082e0e7001ff10.xsd\n",
      "✅ New schema generated and saved.\n",
      "📄 XML: files/xml/4.xml | 📁 XSD: files/xsd/eb9598ec23aeb66ffa85f1defd6b86ae8f176eef3118fd623fa844df28fabace.xsd\n",
      "✅ Existing schema loaded.\n",
      "📄 XML: files/xml/5.xml | 📁 XSD: files/xsd/75824c81bd8a8857b53f171c78bceedf9f2ab4beaef4e8fd67fdd5724bf0f7e9.xsd\n",
      "✅ New schema generated and saved.\n",
      "📄 XML: files/xml/nama1.xml | 📁 XSD: files/xsd/8301a4006eb7b8ce28363c9e2f5bf6c1439d3411fc3c8198cd89cfcf1e07edcc.xsd\n",
      "✅ New schema generated and saved.\n",
      "📄 XML: files/xml/nama2.xml | 📁 XSD: files/xsd/8301a4006eb7b8ce28363c9e2f5bf6c1439d3411fc3c8198cd89cfcf1e07edcc.xsd\n",
      "✅ Existing schema loaded.\n",
      "📄 XML: files/xml/nama3.xml | 📁 XSD: files/xsd/8301a4006eb7b8ce28363c9e2f5bf6c1439d3411fc3c8198cd89cfcf1e07edcc.xsd\n",
      "✅ Existing schema loaded.\n",
      "📄 XML: files/xml/nama4.xml | 📁 XSD: files/xsd/8301a4006eb7b8ce28363c9e2f5bf6c1439d3411fc3c8198cd89cfcf1e07edcc.xsd\n",
      "✅ Existing schema loaded.\n",
      "📄 XML: files/xml/nama5.xml | 📁 XSD: files/xsd/8301a4006eb7b8ce28363c9e2f5bf6c1439d3411fc3c8198cd89cfcf1e07edcc.xsd\n",
      "✅ Existing schema loaded.\n",
      "📄 XML: files/xml/streem1.xml | 📁 XSD: files/xsd/af6b04037d06bc0b1807f07417e1bd3ad73d1afc6424fd9644e83a551cdc659c.xsd\n",
      "✅ New schema generated and saved.\n",
      "📄 XML: files/xml/streem2.xml | 📁 XSD: files/xsd/f97df0fac23211d2cca3ad89013e9180e69edc0e3c5fbc0ae1672225be55a134.xsd\n",
      "✅ New schema generated and saved.\n",
      "📄 XML: files/xml/streem3.xml | 📁 XSD: files/xsd/af6b04037d06bc0b1807f07417e1bd3ad73d1afc6424fd9644e83a551cdc659c.xsd\n",
      "✅ Existing schema loaded.\n",
      "📄 XML: files/xml/streem4.xml | 📁 XSD: files/xsd/1de387694ce01b69da22e886b28e4b7549f73cf768bffb65e63676e27bdc317d.xsd\n",
      "✅ New schema generated and saved.\n",
      "📄 XML: files/xml/streem5.xml | 📁 XSD: files/xsd/0b3d923da0c828945733c2d05d63fda7e2bf077cb007f8458eefcfd9c0be614d.xsd\n",
      "✅ New schema generated and saved.\n",
      "📄 XML: files/xml/truescope1.xml | 📁 XSD: files/xsd/d3c3a1bd49e59244a33037d7926392d424b1ff743b1bcb6a1095aa571fe64c92.xsd\n",
      "✅ New schema generated and saved.\n",
      "📄 XML: files/xml/truescope2.xml | 📁 XSD: files/xsd/b932b7916864b1ec1403b299ac6d811ca454d892d888d4dd97e7b00d793eb702.xsd\n",
      "✅ New schema generated and saved.\n",
      "📄 XML: files/xml/truescope3.xml | 📁 XSD: files/xsd/d3c3a1bd49e59244a33037d7926392d424b1ff743b1bcb6a1095aa571fe64c92.xsd\n",
      "✅ Existing schema loaded.\n",
      "📄 XML: files/xml/truescope4.xml | 📁 XSD: files/xsd/939e5c77564c820ee11d250dffce07124e2c36cd22c0413793554102675de2d1.xsd\n",
      "✅ New schema generated and saved.\n",
      "📄 XML: files/xml/truescope5.xml | 📁 XSD: files/xsd/05e09de8a872ee5fc36309608eda07436098f248cf26bd078230c603e6c3f762.xsd\n",
      "✅ New schema generated and saved.\n",
      "📄 XML: files/xml/try.xml | 📁 XSD: files/xsd/c47d54f3514c39141f3b59aeb2dae476a477b3b45c5d73b0eff750ba0fd659a5.xsd\n",
      "✅ New schema generated and saved.\n",
      "📄 XML: files/xml/try2.xml | 📁 XSD: files/xsd/34a879de1ed2241529e58b74ac3dacb75bd301868a30d642a373689ed9d1bdf3.xsd\n",
      "✅ New schema generated and saved.\n"
     ]
    }
   ],
   "source": [
    "schema_generator(JSON_DIR, JSON_SCHEMA_DIR, XML_DIR, XSD_DIR, CONFIG_FILE)"
   ]
  },
  {
   "cell_type": "markdown",
   "id": "768311b0",
   "metadata": {},
   "source": [
    "**Sample usage for JSON**"
   ]
  },
  {
   "cell_type": "code",
   "execution_count": 17,
   "id": "62417762",
   "metadata": {},
   "outputs": [
    {
     "name": "stdout",
     "output_type": "stream",
     "text": [
      "['clip0', 'clip0.article', 'clip0.article.author', 'clip0.article.author.author', 'clip0.article.body', 'clip0.article.body.p', 'clip0.article.headline', 'clip0.article.hiddenbody', 'clip0.article.hiddenbody.p', 'clip0.source_metadata', 'clip0.source_metadata.article_area', 'clip0.source_metadata.article_id', 'clip0.source_metadata.ave', 'clip0.source_metadata.ave_currency', 'clip0.source_metadata.circulation', 'clip0.source_metadata.clip_pages', 'clip0.source_metadata.clipping_coordinates', 'clip0.source_metadata.content_type', 'clip0.source_metadata.country', 'clip0.source_metadata.edition', 'clip0.source_metadata.height', 'clip0.source_metadata.language', 'clip0.source_metadata.origin_left', 'clip0.source_metadata.origin_top', 'clip0.source_metadata.original_page_url', 'clip0.source_metadata.page_numbers', 'clip0.source_metadata.page_section', 'clip0.source_metadata.pdf_file_name', 'clip0.source_metadata.publication_date', 'clip0.source_metadata.publication_id', 'clip0.source_metadata.publication_name', 'clip0.source_metadata.width', 'clip0.source_metadata.word_count', 'clip0.supplier', 'clip0.supplier.name', 'clip0.supplier.processed_date']\n",
      "📄 JSON: files/json/client.json | 📁 Schema: files/json_schema\\2c293ef658fa596dc44f82ac5320b9167ea8d8e0f632fc1872feb629fc7ca815.json\n",
      "✅ Existing schema loaded.\n",
      "True\n"
     ]
    }
   ],
   "source": [
    "# Specify a target JSON file for validation\n",
    "target_json = f\"{JSON_DIR}/client.json\"\n",
    "\n",
    "# Generate a JSON Schema for the target file and save it to JSON_SCHEMA_DIR\n",
    "schema = json_schema_generator(target_json, JSON_SCHEMA_DIR, CONFIG_FILE)\n",
    "\n",
    "# Validate the target JSON file using the generated schema\n",
    "result = json_validator(target_json, schema)\n",
    "print(result)  # Output the validation result (True if valid, error details if invalid)"
   ]
  },
  {
   "cell_type": "markdown",
   "id": "502e5531",
   "metadata": {},
   "source": [
    "**Sample usage for XML**"
   ]
  },
  {
   "cell_type": "code",
   "execution_count": 18,
   "id": "2628b368",
   "metadata": {},
   "outputs": [
    {
     "name": "stdout",
     "output_type": "stream",
     "text": [
      "📄 XML: files/xml/nama3.xml | 📁 XSD: files/xsd/59ab3cfc461ae67714426bf277b7ce61da6cbff1b95b9077fc3b16da2a77cf7c.xsd\n",
      "🔧 Optional fields: ['xml.newsitem.language']\n",
      "🔧 Making element 'xml.newsitem.language' optional (minOccurs=0)\n",
      "✅ New schema generated and saved.\n",
      "True\n"
     ]
    }
   ],
   "source": [
    "# Specify a target XML file for validation\n",
    "target_xml = f\"{XML_DIR}/nama3.xml\"\n",
    "\n",
    "# Generate an XSD (XML Schema) from the target XML file and save it to XSD_DIR\n",
    "schema = generate_xsd(target_xml, XSD_DIR, CONFIG_FILE)\n",
    "\n",
    "# Validate the target XML file using the generated schema\n",
    "result = xml_validator(target_xml, schema)\n",
    "print(result)  # Output the validation result (True if valid, error details if invalid)"
   ]
  }
 ],
 "metadata": {
  "kernelspec": {
   "display_name": "Python 3",
   "language": "python",
   "name": "python3"
  },
  "language_info": {
   "codemirror_mode": {
    "name": "ipython",
    "version": 3
   },
   "file_extension": ".py",
   "mimetype": "text/x-python",
   "name": "python",
   "nbconvert_exporter": "python",
   "pygments_lexer": "ipython3",
   "version": "3.11.0"
  }
 },
 "nbformat": 4,
 "nbformat_minor": 5
}
