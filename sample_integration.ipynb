{
 "cells": [
  {
   "cell_type": "markdown",
   "id": "7612afe2",
   "metadata": {},
   "source": [
    "**Initialization**"
   ]
  },
  {
   "cell_type": "code",
   "execution_count": 2,
   "id": "6b68e165",
   "metadata": {},
   "outputs": [],
   "source": [
    "from schema_generator import schema_generator\n",
    "from xml_to_xsd import XSDGenerator\n",
    "from xml_to_xsd.xml_validator import xml_validator\n",
    "from json_to_schema.json_schema_generator import json_schema_generator\n",
    "from json_to_schema.json_validator import json_validator\n",
    "\n",
    "# Define directories for input/output files and configuration\n",
    "JSON_DIR = \"files/json\"                \n",
    "JSON_SCHEMA_DIR = \"files/json_schema\"  \n",
    "XML_DIR = \"files/xml\"                \n",
    "XSD_DIR = \"files/xsd\"                 \n",
    "CONFIG_FILE = \"config.json\"            "
   ]
  },
  {
   "cell_type": "markdown",
   "id": "1b9162f9",
   "metadata": {},
   "source": [
    "**Generate schemas and validate all files in the specified directories based on the config file**"
   ]
  },
  {
   "cell_type": "code",
   "execution_count": null,
   "id": "5b9bf46a",
   "metadata": {},
   "outputs": [],
   "source": [
    "schema_generator(JSON_DIR, JSON_SCHEMA_DIR, XML_DIR, XSD_DIR, CONFIG_FILE)"
   ]
  },
  {
   "cell_type": "markdown",
   "id": "768311b0",
   "metadata": {},
   "source": [
    "**Sample usage for JSON**"
   ]
  },
  {
   "cell_type": "code",
   "execution_count": null,
   "id": "62417762",
   "metadata": {},
   "outputs": [
    {
     "name": "stdout",
     "output_type": "stream",
     "text": [
      "📄 JSON: files/json/client.json | 📁 Schema: files/json_schema\\c7d0d5fdfee92ca7f230e848273f143b3f5a00305c852971531e88d06605dcdf.json\n",
      "✅ Existing schema loaded.\n",
      "True\n"
     ]
    }
   ],
   "source": [
    "# Specify a target JSON file for validation\n",
    "target_json = f\"{JSON_DIR}/client.json\"\n",
    "\n",
    "# Generate a JSON Schema for the target file and save it to JSON_SCHEMA_DIR\n",
    "schema = json_schema_generator(target_json, JSON_SCHEMA_DIR)\n",
    "\n",
    "# Validate the target JSON file using the generated schema\n",
    "result = json_validator(target_json, schema)\n",
    "print(result)  # Output the validation result (True if valid, error details if invalid)"
   ]
  },
  {
   "cell_type": "markdown",
   "id": "502e5531",
   "metadata": {},
   "source": [
    "**Sample usage for XML**"
   ]
  },
  {
   "cell_type": "code",
   "execution_count": null,
   "id": "2628b368",
   "metadata": {},
   "outputs": [
    {
     "name": "stdout",
     "output_type": "stream",
     "text": [
      "📄 XML: files/xml/nama1.xml | 📁 XSD: files/xsd/8301a4006eb7b8ce28363c9e2f5bf6c1439d3411fc3c8198cd89cfcf1e07edcc.xsd\n",
      "✅ Existing schema loaded.\n",
      "True\n"
     ]
    }
   ],
   "source": [
    "# Specify a target XML file for validation\n",
    "target_xml = f\"{XML_DIR}/nama1.xml\"\n",
    "\n",
    "# Create an instance of the XSD generator\n",
    "xsd_generator = XSDGenerator()\n",
    "\n",
    "# Generate an XSD (XML Schema) from the target XML file and save it to XSD_DIR\n",
    "schema = xsd_generator.generate_xsd(target_xml, XSD_DIR)\n",
    "\n",
    "# Validate the target XML file using the generated schema\n",
    "result = xml_validator(target_xml, schema)\n",
    "print(result)  # Output the validation result (True if valid, error details if invalid)"
   ]
  }
 ],
 "metadata": {
  "kernelspec": {
   "display_name": "Python 3",
   "language": "python",
   "name": "python3"
  },
  "language_info": {
   "codemirror_mode": {
    "name": "ipython",
    "version": 3
   },
   "file_extension": ".py",
   "mimetype": "text/x-python",
   "name": "python",
   "nbconvert_exporter": "python",
   "pygments_lexer": "ipython3",
   "version": "3.11.0"
  }
 },
 "nbformat": 4,
 "nbformat_minor": 5
}
